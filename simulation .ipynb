{
 "cells": [
  {
   "cell_type": "code",
   "execution_count": null,
   "id": "133cc2d7",
   "metadata": {},
   "outputs": [],
   "source": [
    "from walker import Walker\n",
    "from montecarlo import MonteCarlo\n",
    "import matplotlib.pyplot as plt\n",
    "import animatewalk\n",
    "from matplotlib.animation import FuncAnimation, PillowWriter"
   ]
  },
  {
   "cell_type": "markdown",
   "id": "8d695f5c",
   "metadata": {},
   "source": [
    "# Simulation \n",
    "\n",
    "Two walkers are created  \n",
    "Walker 1 starts at position (1,1) on the board  \n",
    "Walker 2 starts at position (9,9) on the board  \n",
    "The monte carlo simulation is created with a board size 9 and 10000 samples will be taken.   \n",
    "The locations of the walkers on the board are stored to animate the simulation.  "
   ]
  },
  {
   "cell_type": "markdown",
   "id": "dcd53257",
   "metadata": {},
   "source": [
    "### Walkers walking at the same speed"
   ]
  },
  {
   "cell_type": "code",
   "execution_count": null,
   "id": "2b13cbeb",
   "metadata": {
    "scrolled": true
   },
   "outputs": [],
   "source": [
    "walker1_mc = Walker([1,1])\n",
    "walker2_mc = Walker([9,9])\n",
    "sim1 = MonteCarlo(store_location = True, board_size = 9,n_samples = 10000)\n",
    "sim1.MC_simulation(walker1_mc,walker2_mc)\n",
    "print(f'The probability of two walkers meeting on a {sim1.board_size}x{sim1.board_size} board is {sim1.probability}')\n"
   ]
  },
  {
   "cell_type": "markdown",
   "id": "b14efd84",
   "metadata": {},
   "source": [
    "### Walkers walking at different speeds"
   ]
  },
  {
   "cell_type": "code",
   "execution_count": null,
   "id": "c9227beb",
   "metadata": {},
   "outputs": [],
   "source": [
    "walker1_mc = Walker([1,1])\n",
    "walker2_mc = Walker([9,9],speed=7)\n",
    "sim2 = MonteCarlo(store_location = True, board_size = 9,n_samples = 10000)\n",
    "sim2.MC_simulation(walker1_mc,walker2_mc)\n",
    "print(f'The probability of two walkers meeting on a {sim2.board_size}x{sim2.board_size} board is {sim2.probability}')\n"
   ]
  },
  {
   "cell_type": "code",
   "execution_count": null,
   "id": "8ab7a66d",
   "metadata": {},
   "outputs": [],
   "source": [
    "# The dictionary of random walks is turned into a list \n",
    "long_cat_walk = []\n",
    "for i in sim1.walks:\n",
    "    for j in sim1.walks[i][0]:\n",
    "        long_cat_walk.append(j)    \n",
    "    long_cat_walk.append(sim1.walks[i][1])"
   ]
  },
  {
   "cell_type": "markdown",
   "id": "29ff0304",
   "metadata": {},
   "source": [
    "# Animation of random walk"
   ]
  },
  {
   "cell_type": "code",
   "execution_count": null,
   "id": "55e074d9",
   "metadata": {},
   "outputs": [],
   "source": [
    "%matplotlib tk\n",
    "\n",
    "animate_this = animatewalk.AnimateWalk()\n",
    "fig, ax = plt.subplots(1,1,figsize=(6,6))\n",
    "ax.set_xticks(range(1,11))\n",
    "ax.set_yticks(range(1,11))\n",
    "ax.grid()\n",
    "fig.tight_layout()\n",
    "ani = FuncAnimation(fig, animate_this, frames=long_cat_walk, interval=50, repeat=False, fargs=(fig,ax))\n"
   ]
  },
  {
   "cell_type": "markdown",
   "id": "aeadd748",
   "metadata": {},
   "source": [
    "Delete the ani variable and close the plot"
   ]
  },
  {
   "cell_type": "code",
   "execution_count": null,
   "id": "20e9df37",
   "metadata": {},
   "outputs": [],
   "source": [
    "plt.close()\n",
    "del ani"
   ]
  }
 ],
 "metadata": {
  "kernelspec": {
   "display_name": "Python 3",
   "language": "python",
   "name": "python3"
  },
  "language_info": {
   "codemirror_mode": {
    "name": "ipython",
    "version": 3
   },
   "file_extension": ".py",
   "mimetype": "text/x-python",
   "name": "python",
   "nbconvert_exporter": "python",
   "pygments_lexer": "ipython3",
   "version": "3.9.5"
  }
 },
 "nbformat": 4,
 "nbformat_minor": 5
}
